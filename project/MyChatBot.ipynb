{
 "cells": [
  {
   "cell_type": "code",
   "execution_count": 1,
   "metadata": {
    "colab": {
     "base_uri": "https://localhost:8080/",
     "height": 102
    },
    "id": "ulIReAt7fBe5",
    "outputId": "4cfbaadd-b367-4ff4-83fe-4b4b970c0525"
   },
   "outputs": [
    {
     "name": "stdout",
     "output_type": "stream",
     "text": [
      "Requirement already satisfied: nltk in d:\\cse 3rd year\\anaconda\\envs\\virtualenv\\lib\\site-packages (3.7)\n",
      "Requirement already satisfied: click in d:\\cse 3rd year\\anaconda\\envs\\virtualenv\\lib\\site-packages (from nltk) (8.0.4)\n",
      "Requirement already satisfied: regex>=2021.8.3 in d:\\cse 3rd year\\anaconda\\envs\\virtualenv\\lib\\site-packages (from nltk) (2022.3.15)\n",
      "Requirement already satisfied: joblib in d:\\cse 3rd year\\anaconda\\envs\\virtualenv\\lib\\site-packages (from nltk) (1.1.0)\n",
      "Requirement already satisfied: tqdm in d:\\cse 3rd year\\anaconda\\envs\\virtualenv\\lib\\site-packages (from nltk) (4.64.0)\n",
      "Requirement already satisfied: colorama in d:\\cse 3rd year\\anaconda\\envs\\virtualenv\\lib\\site-packages (from click->nltk) (0.4.4)\n"
     ]
    },
    {
     "name": "stderr",
     "output_type": "stream",
     "text": [
      "[nltk_data] Downloading package punkt to\n",
      "[nltk_data]     C:\\Users\\aayus\\AppData\\Roaming\\nltk_data...\n",
      "[nltk_data]   Package punkt is already up-to-date!\n"
     ]
    },
    {
     "data": {
      "text/plain": [
       "True"
      ]
     },
     "execution_count": 1,
     "metadata": {},
     "output_type": "execute_result"
    }
   ],
   "source": [
    "!pip install nltk\n",
    "import nltk\n",
    "nltk.download('punkt')"
   ]
  },
  {
   "cell_type": "code",
   "execution_count": 2,
   "metadata": {
    "id": "MoeUKxg-a5kj"
   },
   "outputs": [],
   "source": [
    "import nltk\n",
    "from nltk.stem import WordNetLemmatizer\n",
    "lemmatizer = WordNetLemmatizer()\n",
    "import json\n",
    "import pickle\n",
    "import warnings\n",
    "warnings.filterwarnings('ignore')"
   ]
  },
  {
   "cell_type": "code",
   "execution_count": 3,
   "metadata": {
    "colab": {
     "base_uri": "https://localhost:8080/",
     "height": 51
    },
    "id": "naoqg88dbdRe",
    "outputId": "3ed1e420-fedd-4a51-ec2c-42df90e83c00"
   },
   "outputs": [],
   "source": [
    "import numpy as np\n",
    "from keras.models import Sequential\n",
    "from keras.layers import Dense, Activation, Dropout\n",
    "from tensorflow.keras.optimizers import SGD\n",
    "import random"
   ]
  },
  {
   "cell_type": "markdown",
   "metadata": {
    "id": "CwsiM5LveMCs"
   },
   "source": [
    "# Preprocessing"
   ]
  },
  {
   "cell_type": "code",
   "execution_count": 4,
   "metadata": {
    "id": "VyjWuwHlbjaX"
   },
   "outputs": [],
   "source": [
    "words=[]\n",
    "classes = []\n",
    "documents = []\n",
    "ignore_words = ['?', '!']\n",
    "data_file = open('intents.json').read() \n",
    "intents = json.loads(data_file)"
   ]
  },
  {
   "cell_type": "code",
   "execution_count": 5,
   "metadata": {
    "id": "An-wYX8JdOZq"
   },
   "outputs": [],
   "source": [
    "for intent in intents['intents']:\n",
    "    for pattern in intent['patterns']:\n",
    "        w = nltk.word_tokenize(pattern)\n",
    "        words.extend(w)\n",
    "        documents.append((w, intent['tag']))\n",
    "        if intent['tag'] not in classes:\n",
    "            classes.append(intent['tag'])"
   ]
  },
  {
   "cell_type": "code",
   "execution_count": 6,
   "metadata": {
    "colab": {
     "base_uri": "https://localhost:8080/",
     "height": 68
    },
    "id": "QJN3L8oAfncK",
    "outputId": "7e05a525-8a15-4030-fbb1-05ac869c9f29"
   },
   "outputs": [
    {
     "name": "stderr",
     "output_type": "stream",
     "text": [
      "[nltk_data] Downloading package wordnet to\n",
      "[nltk_data]     C:\\Users\\aayus\\AppData\\Roaming\\nltk_data...\n",
      "[nltk_data]   Package wordnet is already up-to-date!\n"
     ]
    },
    {
     "data": {
      "text/plain": [
       "True"
      ]
     },
     "execution_count": 6,
     "metadata": {},
     "output_type": "execute_result"
    }
   ],
   "source": [
    "nltk.download('wordnet')"
   ]
  },
  {
   "cell_type": "code",
   "execution_count": 7,
   "metadata": {
    "colab": {
     "base_uri": "https://localhost:8080/",
     "height": 88
    },
    "id": "TDwPf9R5hHF2",
    "outputId": "db350c36-58f6-4142-f56d-33e263b936c5"
   },
   "outputs": [
    {
     "name": "stdout",
     "output_type": "stream",
     "text": [
      "347 documents\n",
      "36 classes ['admission', 'canteen', 'college intake', 'committee', 'computerhod', 'course', 'creator', 'document', 'event', 'extchod', 'facilities', 'fees', 'floors', 'goodbye', 'greeting', 'hod', 'hostel', 'hours', 'infrastructure', 'ithod', 'library', 'location', 'menu', 'name', 'number', 'placement', 'principal', 'ragging', 'random', 'salutaion', 'sem', 'swear', 'syllabus', 'task', 'uniform', 'vacation']\n",
      "240 unique lemmatized words [\"'s\", 'a', 'ab1', 'about', 'active', 'address', 'admision', 'admission', 'allotment', 'am', 'an', 'and', 'antiragging', 'any', 'anyone', 'are', 'as', 'asshole', 'at', 'attend', 'available', 'average', 'be', 'between', 'big', 'bitch', 'book', 'branch', 'bring', 'building', 'by', 'bye', 'cafetaria', 'call', 'called', 'campus', 'can', 'canteen', 'capacity', 'case', 'casuals', 'chatting', 'chennai', 'code', 'college', 'come', 'committe', 'committee', 'company', 'computer', 'conducted', 'contact', 'course', 'create', 'created', 'creator', 'cse', 'cya', 'date', 'day', 'dean', 'designed', 'detail', 'developer', 'different', 'distance', 'do', 'document', 'doe', 'done', 'dress', 'dresscode', 'dumb', 'during', 'each', 'eat', 'ece', 'end', 'engineering', 'event', 'exam', 'extc', 'facility', 'far', 'fee', 'first', 'floor', 'food', 'for', 'from', 'fuck', 'fucker', 'function', 'get', 'give', 'go', 'good', 'goodbye', 'got', 'gtg', 'guy', 'have', 'held', 'hell', 'hello', 'help', 'here', 'heyy', 'hi', 'history', 'holiday', 'hostel', 'hour', 'how', 'i', 'idiot', 'in', 'incident', 'info', 'information', 'infrastructure', 'intake', 'is', 'it', 'job', 'junior', 'k', 'later', 'leaving', 'lecture', 'library', 'list', 'located', 'location', 'long', 'love', 'made', 'many', 'marry', 'max', 'maximum', 'me', 'menu', 'more', 'much', 'my', 'name', 'need', 'needed', 'next', 'nice', 'no', 'number', 'of', 'offer', 'offered', 'office', 'ok', 'okay', 'okie', 'okk', 'on', 'open', 'operation', 'organised', 'package', 'per', 'phone', 'placement', 'practice', 'process', 'provide', 'provided', 'ragging', 'reach', 'recruitment', 'required', 'saturday', 'schedule', 'seat', 'see', 'sem', 'semester', 'servive', 'should', 'shut', 'size', 'something', 'start', 'student', 'stundent', 'stupid', 'syllabus', 'take', 'taken', 'taking', 'talk', 'tall', 'telephone', 'tell', 'thank', 'thanks', 'the', 'there', 'thing', 'this', 'time', 'timetable', 'timing', 'to', 'tyyl', 'u', 'uniform', 'up', 'use', 'vacation', 'visit', 'vit', 'vitc', 'we', 'wear', 'well', 'what', 'whats', 'whatsup', 'whatv', 'when', 'where', 'wheres', 'which', 'who', 'whom', 'why', 'will', 'work', 'working', 'ya', 'year', 'you', 'your']\n"
     ]
    }
   ],
   "source": [
    "words = [lemmatizer.lemmatize(w.lower()) for w in words if w not in ignore_words]\n",
    "words = sorted(list(set(words)))\n",
    "classes = sorted(list(set(classes)))\n",
    "print (len(documents), \"documents\")\n",
    "print (len(classes), \"classes\", classes)\n",
    "print (len(words), \"unique lemmatized words\", words)\n",
    "pickle.dump(words,open('words.pkl','wb'))\n",
    "pickle.dump(classes,open('classes.pkl','wb'))"
   ]
  },
  {
   "cell_type": "code",
   "execution_count": 8,
   "metadata": {
    "colab": {
     "base_uri": "https://localhost:8080/",
     "height": 34
    },
    "id": "wC_eRFlBiEUN",
    "outputId": "fcd7fb23-a1e3-4063-c86a-68230ac0b337"
   },
   "outputs": [
    {
     "name": "stdout",
     "output_type": "stream",
     "text": [
      "Training data created\n"
     ]
    }
   ],
   "source": [
    "import random\n",
    "import numpy as np\n",
    "training = []\n",
    "output_empty = [0] * len(classes)\n",
    "\n",
    "for doc in documents:\n",
    "    bag = []\n",
    "    pattern_words = doc[0]\n",
    "    pattern_words = [lemmatizer.lemmatize(word.lower()) for word in pattern_words]\n",
    "    for w in words:\n",
    "        bag.append(1) if w in pattern_words else bag.append(0)\n",
    "    output_row = list(output_empty)\n",
    "    output_row[classes.index(doc[1])] = 1\n",
    "    training.append([bag, output_row])\n",
    "\n",
    "random.shuffle(training)\n",
    "training = np.array(training)\n",
    "train_x = list(training[:,0])\n",
    "train_y = list(training[:,1])\n",
    "print(\"Training data created\")"
   ]
  },
  {
   "cell_type": "code",
   "execution_count": 9,
   "metadata": {
    "id": "oXHd9jrngXq4"
   },
   "outputs": [],
   "source": [
    "from tensorflow.python.framework import ops\n",
    "ops.reset_default_graph()"
   ]
  },
  {
   "cell_type": "code",
   "execution_count": 10,
   "metadata": {
    "colab": {
     "base_uri": "https://localhost:8080/",
     "height": 88
    },
    "id": "gS_iV4yPjgA5",
    "outputId": "ed6c63fe-b9b5-4e54-9260-69b505f4616f"
   },
   "outputs": [],
   "source": [
    "from keras.models import Sequential\n",
    "from keras.layers import Dense,Dropout\n",
    "model = Sequential()\n",
    "model.add(Dense(128, input_shape=(len(train_x[0]),), activation='relu'))\n",
    "model.add(Dropout(0.5))\n",
    "model.add(Dense(64, activation='relu'))\n",
    "model.add(Dropout(0.5))\n",
    "model.add(Dense(len(train_y[0]), activation='softmax'))"
   ]
  },
  {
   "cell_type": "code",
   "execution_count": 11,
   "metadata": {
    "id": "90wpa9aSjloD"
   },
   "outputs": [],
   "source": [
    "from tensorflow.keras.optimizers import SGD\n",
    "sgd = SGD(lr=0.01, decay=1e-6, momentum=0.9, nesterov=True)\n",
    "model.compile(loss='categorical_crossentropy', optimizer=sgd, metrics=['accuracy'])"
   ]
  },
  {
   "cell_type": "code",
   "execution_count": 12,
   "metadata": {
    "colab": {
     "base_uri": "https://localhost:8080/",
     "height": 1000
    },
    "id": "MQkD1_wdj4_0",
    "outputId": "7c115811-0300-4595-ccf9-bad88ef6a4bd"
   },
   "outputs": [
    {
     "name": "stdout",
     "output_type": "stream",
     "text": [
      "Epoch 1/200\n",
      "70/70 [==============================] - 0s 1ms/step - loss: 3.5765 - accuracy: 0.0548\n",
      "Epoch 2/200\n",
      "70/70 [==============================] - 0s 1ms/step - loss: 3.4353 - accuracy: 0.0778\n",
      "Epoch 3/200\n",
      "70/70 [==============================] - 0s 1ms/step - loss: 3.3383 - accuracy: 0.1182\n",
      "Epoch 4/200\n",
      "70/70 [==============================] - 0s 1ms/step - loss: 3.1221 - accuracy: 0.1844\n",
      "Epoch 5/200\n",
      "70/70 [==============================] - 0s 1ms/step - loss: 2.9015 - accuracy: 0.2161\n",
      "Epoch 6/200\n",
      "70/70 [==============================] - 0s 1ms/step - loss: 2.6062 - accuracy: 0.3343\n",
      "Epoch 7/200\n",
      "70/70 [==============================] - 0s 1ms/step - loss: 2.3576 - accuracy: 0.3660\n",
      "Epoch 8/200\n",
      "70/70 [==============================] - 0s 1ms/step - loss: 2.1936 - accuracy: 0.4179\n",
      "Epoch 9/200\n",
      "70/70 [==============================] - 0s 1ms/step - loss: 1.8623 - accuracy: 0.5072\n",
      "Epoch 10/200\n",
      "70/70 [==============================] - 0s 1ms/step - loss: 1.6982 - accuracy: 0.5504\n",
      "Epoch 11/200\n",
      "70/70 [==============================] - 0s 1ms/step - loss: 1.6021 - accuracy: 0.5504\n",
      "Epoch 12/200\n",
      "70/70 [==============================] - 0s 1ms/step - loss: 1.4596 - accuracy: 0.5562\n",
      "Epoch 13/200\n",
      "70/70 [==============================] - 0s 1ms/step - loss: 1.2918 - accuracy: 0.6513\n",
      "Epoch 14/200\n",
      "70/70 [==============================] - 0s 1ms/step - loss: 1.2318 - accuracy: 0.6513\n",
      "Epoch 15/200\n",
      "70/70 [==============================] - 0s 1ms/step - loss: 1.1679 - accuracy: 0.6628\n",
      "Epoch 16/200\n",
      "70/70 [==============================] - 0s 1ms/step - loss: 1.1537 - accuracy: 0.6888\n",
      "Epoch 17/200\n",
      "70/70 [==============================] - 0s 1ms/step - loss: 0.9572 - accuracy: 0.7089\n",
      "Epoch 18/200\n",
      "70/70 [==============================] - 0s 1ms/step - loss: 0.9320 - accuracy: 0.7205\n",
      "Epoch 19/200\n",
      "70/70 [==============================] - 0s 1ms/step - loss: 0.8810 - accuracy: 0.7291\n",
      "Epoch 20/200\n",
      "70/70 [==============================] - 0s 1ms/step - loss: 0.7695 - accuracy: 0.7550\n",
      "Epoch 21/200\n",
      "70/70 [==============================] - 0s 1ms/step - loss: 0.7844 - accuracy: 0.7839\n",
      "Epoch 22/200\n",
      "70/70 [==============================] - 0s 1ms/step - loss: 0.7438 - accuracy: 0.7983\n",
      "Epoch 23/200\n",
      "70/70 [==============================] - 0s 1ms/step - loss: 0.6650 - accuracy: 0.8069\n",
      "Epoch 24/200\n",
      "70/70 [==============================] - 0s 1ms/step - loss: 0.7050 - accuracy: 0.7810\n",
      "Epoch 25/200\n",
      "70/70 [==============================] - 0s 1ms/step - loss: 0.5418 - accuracy: 0.8444\n",
      "Epoch 26/200\n",
      "70/70 [==============================] - 0s 1ms/step - loss: 0.5684 - accuracy: 0.8329\n",
      "Epoch 27/200\n",
      "70/70 [==============================] - 0s 1ms/step - loss: 0.5836 - accuracy: 0.8329\n",
      "Epoch 28/200\n",
      "70/70 [==============================] - 0s 1ms/step - loss: 0.5330 - accuracy: 0.8415\n",
      "Epoch 29/200\n",
      "70/70 [==============================] - 0s 1ms/step - loss: 0.5097 - accuracy: 0.8300\n",
      "Epoch 30/200\n",
      "70/70 [==============================] - 0s 1ms/step - loss: 0.4863 - accuracy: 0.8617\n",
      "Epoch 31/200\n",
      "70/70 [==============================] - 0s 1ms/step - loss: 0.4378 - accuracy: 0.8818\n",
      "Epoch 32/200\n",
      "70/70 [==============================] - 0s 1ms/step - loss: 0.4211 - accuracy: 0.8905\n",
      "Epoch 33/200\n",
      "70/70 [==============================] - 0s 1ms/step - loss: 0.3750 - accuracy: 0.8991\n",
      "Epoch 34/200\n",
      "70/70 [==============================] - 0s 1ms/step - loss: 0.4170 - accuracy: 0.8703\n",
      "Epoch 35/200\n",
      "70/70 [==============================] - 0s 1ms/step - loss: 0.3825 - accuracy: 0.8818\n",
      "Epoch 36/200\n",
      "70/70 [==============================] - 0s 1ms/step - loss: 0.3720 - accuracy: 0.8934\n",
      "Epoch 37/200\n",
      "70/70 [==============================] - 0s 1ms/step - loss: 0.3442 - accuracy: 0.9049\n",
      "Epoch 38/200\n",
      "70/70 [==============================] - 0s 1ms/step - loss: 0.3221 - accuracy: 0.8991\n",
      "Epoch 39/200\n",
      "70/70 [==============================] - 0s 1ms/step - loss: 0.3567 - accuracy: 0.9020\n",
      "Epoch 40/200\n",
      "70/70 [==============================] - 0s 1ms/step - loss: 0.3100 - accuracy: 0.9135\n",
      "Epoch 41/200\n",
      "70/70 [==============================] - 0s 1ms/step - loss: 0.2899 - accuracy: 0.9135\n",
      "Epoch 42/200\n",
      "70/70 [==============================] - 0s 1ms/step - loss: 0.2603 - accuracy: 0.9308\n",
      "Epoch 43/200\n",
      "70/70 [==============================] - 0s 1ms/step - loss: 0.3437 - accuracy: 0.9049\n",
      "Epoch 44/200\n",
      "70/70 [==============================] - 0s 1ms/step - loss: 0.2560 - accuracy: 0.9366\n",
      "Epoch 45/200\n",
      "70/70 [==============================] - 0s 1ms/step - loss: 0.3386 - accuracy: 0.9049\n",
      "Epoch 46/200\n",
      "70/70 [==============================] - 0s 1ms/step - loss: 0.2607 - accuracy: 0.9251\n",
      "Epoch 47/200\n",
      "70/70 [==============================] - 0s 1ms/step - loss: 0.2507 - accuracy: 0.9251\n",
      "Epoch 48/200\n",
      "70/70 [==============================] - 0s 1ms/step - loss: 0.3081 - accuracy: 0.8991\n",
      "Epoch 49/200\n",
      "70/70 [==============================] - 0s 1ms/step - loss: 0.2608 - accuracy: 0.9222\n",
      "Epoch 50/200\n",
      "70/70 [==============================] - 0s 1ms/step - loss: 0.2630 - accuracy: 0.9280\n",
      "Epoch 51/200\n",
      "70/70 [==============================] - 0s 1ms/step - loss: 0.2744 - accuracy: 0.8991\n",
      "Epoch 52/200\n",
      "70/70 [==============================] - 0s 1ms/step - loss: 0.2407 - accuracy: 0.9193\n",
      "Epoch 53/200\n",
      "70/70 [==============================] - 0s 2ms/step - loss: 0.2459 - accuracy: 0.9308\n",
      "Epoch 54/200\n",
      "70/70 [==============================] - 0s 2ms/step - loss: 0.2131 - accuracy: 0.9308\n",
      "Epoch 55/200\n",
      "70/70 [==============================] - 0s 2ms/step - loss: 0.2258 - accuracy: 0.9280\n",
      "Epoch 56/200\n",
      "70/70 [==============================] - 0s 1ms/step - loss: 0.2155 - accuracy: 0.9395\n",
      "Epoch 57/200\n",
      "70/70 [==============================] - 0s 1ms/step - loss: 0.2767 - accuracy: 0.9049\n",
      "Epoch 58/200\n",
      "70/70 [==============================] - 0s 1ms/step - loss: 0.2721 - accuracy: 0.9251\n",
      "Epoch 59/200\n",
      "70/70 [==============================] - 0s 1ms/step - loss: 0.2035 - accuracy: 0.9452\n",
      "Epoch 60/200\n",
      "70/70 [==============================] - 0s 1ms/step - loss: 0.2212 - accuracy: 0.9308\n",
      "Epoch 61/200\n",
      "70/70 [==============================] - 0s 1ms/step - loss: 0.1657 - accuracy: 0.9510\n",
      "Epoch 62/200\n",
      "70/70 [==============================] - 0s 1ms/step - loss: 0.2607 - accuracy: 0.9193\n",
      "Epoch 63/200\n",
      "70/70 [==============================] - 0s 1ms/step - loss: 0.2666 - accuracy: 0.9135\n",
      "Epoch 64/200\n",
      "70/70 [==============================] - 0s 1ms/step - loss: 0.1940 - accuracy: 0.9395\n",
      "Epoch 65/200\n",
      "70/70 [==============================] - 0s 1ms/step - loss: 0.1995 - accuracy: 0.9280\n",
      "Epoch 66/200\n",
      "70/70 [==============================] - 0s 1ms/step - loss: 0.2560 - accuracy: 0.9078\n",
      "Epoch 67/200\n",
      "70/70 [==============================] - 0s 1ms/step - loss: 0.2387 - accuracy: 0.9337\n",
      "Epoch 68/200\n",
      "70/70 [==============================] - 0s 1ms/step - loss: 0.2069 - accuracy: 0.9424\n",
      "Epoch 69/200\n",
      "70/70 [==============================] - 0s 1ms/step - loss: 0.2728 - accuracy: 0.9164\n",
      "Epoch 70/200\n",
      "70/70 [==============================] - 0s 1ms/step - loss: 0.2149 - accuracy: 0.9395\n",
      "Epoch 71/200\n",
      "70/70 [==============================] - 0s 1ms/step - loss: 0.1869 - accuracy: 0.9366\n",
      "Epoch 72/200\n",
      "70/70 [==============================] - 0s 1ms/step - loss: 0.1905 - accuracy: 0.9337\n",
      "Epoch 73/200\n",
      "70/70 [==============================] - 0s 1ms/step - loss: 0.1902 - accuracy: 0.9395\n",
      "Epoch 74/200\n",
      "70/70 [==============================] - 0s 1ms/step - loss: 0.1355 - accuracy: 0.9510\n",
      "Epoch 75/200\n",
      "70/70 [==============================] - 0s 1ms/step - loss: 0.1573 - accuracy: 0.9452\n",
      "Epoch 76/200\n",
      "70/70 [==============================] - 0s 1ms/step - loss: 0.1448 - accuracy: 0.9481\n",
      "Epoch 77/200\n",
      "70/70 [==============================] - 0s 1ms/step - loss: 0.1937 - accuracy: 0.9424\n",
      "Epoch 78/200\n",
      "70/70 [==============================] - 0s 1ms/step - loss: 0.1758 - accuracy: 0.9395\n",
      "Epoch 79/200\n",
      "70/70 [==============================] - 0s 1ms/step - loss: 0.2397 - accuracy: 0.9280\n",
      "Epoch 80/200\n",
      "70/70 [==============================] - 0s 1ms/step - loss: 0.1399 - accuracy: 0.9625\n",
      "Epoch 81/200\n",
      "70/70 [==============================] - 0s 1ms/step - loss: 0.1743 - accuracy: 0.9510\n",
      "Epoch 82/200\n",
      "70/70 [==============================] - 0s 1ms/step - loss: 0.1753 - accuracy: 0.9510\n",
      "Epoch 83/200\n",
      "70/70 [==============================] - 0s 1ms/step - loss: 0.1324 - accuracy: 0.9741\n",
      "Epoch 84/200\n",
      "70/70 [==============================] - 0s 1ms/step - loss: 0.1749 - accuracy: 0.9395\n",
      "Epoch 85/200\n",
      "70/70 [==============================] - 0s 1ms/step - loss: 0.1320 - accuracy: 0.9568\n",
      "Epoch 86/200\n",
      "70/70 [==============================] - 0s 1ms/step - loss: 0.1360 - accuracy: 0.9597\n",
      "Epoch 87/200\n",
      "70/70 [==============================] - 0s 1ms/step - loss: 0.1452 - accuracy: 0.9568\n",
      "Epoch 88/200\n",
      "70/70 [==============================] - 0s 1ms/step - loss: 0.1321 - accuracy: 0.9568\n",
      "Epoch 89/200\n",
      "70/70 [==============================] - 0s 1ms/step - loss: 0.1601 - accuracy: 0.9481\n",
      "Epoch 90/200\n",
      "70/70 [==============================] - 0s 1ms/step - loss: 0.1600 - accuracy: 0.9481\n",
      "Epoch 91/200\n",
      "70/70 [==============================] - 0s 1ms/step - loss: 0.1784 - accuracy: 0.9481\n",
      "Epoch 92/200\n",
      "70/70 [==============================] - 0s 1ms/step - loss: 0.1328 - accuracy: 0.9568\n",
      "Epoch 93/200\n",
      "70/70 [==============================] - 0s 1ms/step - loss: 0.1559 - accuracy: 0.9597\n",
      "Epoch 94/200\n",
      "70/70 [==============================] - 0s 1ms/step - loss: 0.1673 - accuracy: 0.9395\n",
      "Epoch 95/200\n",
      "70/70 [==============================] - 0s 1ms/step - loss: 0.1699 - accuracy: 0.9395\n",
      "Epoch 96/200\n",
      "70/70 [==============================] - 0s 1ms/step - loss: 0.1488 - accuracy: 0.9568\n",
      "Epoch 97/200\n",
      "70/70 [==============================] - 0s 1ms/step - loss: 0.1594 - accuracy: 0.9452\n",
      "Epoch 98/200\n",
      "70/70 [==============================] - 0s 1ms/step - loss: 0.1327 - accuracy: 0.9481\n",
      "Epoch 99/200\n",
      "70/70 [==============================] - 0s 1ms/step - loss: 0.1185 - accuracy: 0.9510\n",
      "Epoch 100/200\n",
      "70/70 [==============================] - 0s 1ms/step - loss: 0.1267 - accuracy: 0.9568\n",
      "Epoch 101/200\n",
      "70/70 [==============================] - 0s 1ms/step - loss: 0.1156 - accuracy: 0.9741\n",
      "Epoch 102/200\n",
      "70/70 [==============================] - 0s 1ms/step - loss: 0.1433 - accuracy: 0.9510\n",
      "Epoch 103/200\n",
      "70/70 [==============================] - 0s 1ms/step - loss: 0.1255 - accuracy: 0.9568\n",
      "Epoch 104/200\n",
      "70/70 [==============================] - 0s 1ms/step - loss: 0.1330 - accuracy: 0.9510\n",
      "Epoch 105/200\n",
      "70/70 [==============================] - 0s 1ms/step - loss: 0.1039 - accuracy: 0.9683\n",
      "Epoch 106/200\n",
      "70/70 [==============================] - 0s 1ms/step - loss: 0.1120 - accuracy: 0.9568\n",
      "Epoch 107/200\n",
      "70/70 [==============================] - 0s 1ms/step - loss: 0.0849 - accuracy: 0.9712\n",
      "Epoch 108/200\n",
      "70/70 [==============================] - 0s 1ms/step - loss: 0.0865 - accuracy: 0.9769\n",
      "Epoch 109/200\n",
      "70/70 [==============================] - 0s 1ms/step - loss: 0.1183 - accuracy: 0.9539\n",
      "Epoch 110/200\n",
      "70/70 [==============================] - 0s 1ms/step - loss: 0.1495 - accuracy: 0.9481\n",
      "Epoch 111/200\n",
      "70/70 [==============================] - 0s 1ms/step - loss: 0.1835 - accuracy: 0.9424\n",
      "Epoch 112/200\n",
      "70/70 [==============================] - 0s 1ms/step - loss: 0.1140 - accuracy: 0.9510\n",
      "Epoch 113/200\n",
      "70/70 [==============================] - 0s 1ms/step - loss: 0.1170 - accuracy: 0.9539\n",
      "Epoch 114/200\n",
      "70/70 [==============================] - 0s 1ms/step - loss: 0.1671 - accuracy: 0.9510\n",
      "Epoch 115/200\n",
      "70/70 [==============================] - 0s 1ms/step - loss: 0.2044 - accuracy: 0.9337\n",
      "Epoch 116/200\n",
      "70/70 [==============================] - 0s 1ms/step - loss: 0.1001 - accuracy: 0.9654\n",
      "Epoch 117/200\n",
      "70/70 [==============================] - 0s 1ms/step - loss: 0.2099 - accuracy: 0.9308\n",
      "Epoch 118/200\n",
      "70/70 [==============================] - 0s 1ms/step - loss: 0.1466 - accuracy: 0.9625\n",
      "Epoch 119/200\n",
      "70/70 [==============================] - 0s 1ms/step - loss: 0.1565 - accuracy: 0.9481\n",
      "Epoch 120/200\n",
      "70/70 [==============================] - 0s 1ms/step - loss: 0.1595 - accuracy: 0.9481\n",
      "Epoch 121/200\n",
      "70/70 [==============================] - 0s 1ms/step - loss: 0.1634 - accuracy: 0.9424\n",
      "Epoch 122/200\n",
      "70/70 [==============================] - 0s 1ms/step - loss: 0.1461 - accuracy: 0.9625\n",
      "Epoch 123/200\n",
      "70/70 [==============================] - 0s 1ms/step - loss: 0.1109 - accuracy: 0.9597\n",
      "Epoch 124/200\n",
      "70/70 [==============================] - 0s 1ms/step - loss: 0.1424 - accuracy: 0.9452\n",
      "Epoch 125/200\n",
      "70/70 [==============================] - 0s 1ms/step - loss: 0.1663 - accuracy: 0.9481\n",
      "Epoch 126/200\n",
      "70/70 [==============================] - 0s 1ms/step - loss: 0.1437 - accuracy: 0.9568\n",
      "Epoch 127/200\n",
      "70/70 [==============================] - 0s 1ms/step - loss: 0.1248 - accuracy: 0.9568\n",
      "Epoch 128/200\n",
      "70/70 [==============================] - 0s 1ms/step - loss: 0.1360 - accuracy: 0.9597\n",
      "Epoch 129/200\n",
      "70/70 [==============================] - 0s 1ms/step - loss: 0.1290 - accuracy: 0.9568\n",
      "Epoch 130/200\n",
      "70/70 [==============================] - 0s 1ms/step - loss: 0.1812 - accuracy: 0.9510\n",
      "Epoch 131/200\n",
      "70/70 [==============================] - 0s 1ms/step - loss: 0.1313 - accuracy: 0.9597\n",
      "Epoch 132/200\n",
      "70/70 [==============================] - 0s 1ms/step - loss: 0.1177 - accuracy: 0.9654\n",
      "Epoch 133/200\n",
      "70/70 [==============================] - 0s 1ms/step - loss: 0.1679 - accuracy: 0.9424\n",
      "Epoch 134/200\n",
      "70/70 [==============================] - 0s 1ms/step - loss: 0.1797 - accuracy: 0.9510\n",
      "Epoch 135/200\n",
      "70/70 [==============================] - 0s 1ms/step - loss: 0.1655 - accuracy: 0.9481\n",
      "Epoch 136/200\n",
      "70/70 [==============================] - 0s 1ms/step - loss: 0.1005 - accuracy: 0.9625\n",
      "Epoch 137/200\n",
      "70/70 [==============================] - 0s 1ms/step - loss: 0.1017 - accuracy: 0.9625\n",
      "Epoch 138/200\n",
      "70/70 [==============================] - 0s 1ms/step - loss: 0.1208 - accuracy: 0.9568\n",
      "Epoch 139/200\n",
      "70/70 [==============================] - 0s 1ms/step - loss: 0.1465 - accuracy: 0.9683\n",
      "Epoch 140/200\n",
      "70/70 [==============================] - 0s 1ms/step - loss: 0.1113 - accuracy: 0.9597\n",
      "Epoch 141/200\n",
      "70/70 [==============================] - 0s 1ms/step - loss: 0.1653 - accuracy: 0.9337\n",
      "Epoch 142/200\n",
      "70/70 [==============================] - 0s 1ms/step - loss: 0.1750 - accuracy: 0.9481\n",
      "Epoch 143/200\n",
      "70/70 [==============================] - 0s 1ms/step - loss: 0.1557 - accuracy: 0.9424\n",
      "Epoch 144/200\n",
      "70/70 [==============================] - 0s 1ms/step - loss: 0.1111 - accuracy: 0.9625\n",
      "Epoch 145/200\n",
      "70/70 [==============================] - 0s 1ms/step - loss: 0.1101 - accuracy: 0.9625\n",
      "Epoch 146/200\n",
      "70/70 [==============================] - 0s 1ms/step - loss: 0.1013 - accuracy: 0.9683\n",
      "Epoch 147/200\n",
      "70/70 [==============================] - 0s 1ms/step - loss: 0.1337 - accuracy: 0.9510\n",
      "Epoch 148/200\n",
      "70/70 [==============================] - 0s 1ms/step - loss: 0.1261 - accuracy: 0.9597\n",
      "Epoch 149/200\n",
      "70/70 [==============================] - 0s 1ms/step - loss: 0.1033 - accuracy: 0.9683\n",
      "Epoch 150/200\n",
      "70/70 [==============================] - 0s 1ms/step - loss: 0.0948 - accuracy: 0.9712\n",
      "Epoch 151/200\n",
      "70/70 [==============================] - 0s 1ms/step - loss: 0.1216 - accuracy: 0.9568\n",
      "Epoch 152/200\n",
      "70/70 [==============================] - 0s 1ms/step - loss: 0.0965 - accuracy: 0.9597\n",
      "Epoch 153/200\n",
      "70/70 [==============================] - 0s 1ms/step - loss: 0.1702 - accuracy: 0.9510\n",
      "Epoch 154/200\n",
      "70/70 [==============================] - 0s 1ms/step - loss: 0.1781 - accuracy: 0.9395\n",
      "Epoch 155/200\n",
      "70/70 [==============================] - 0s 1ms/step - loss: 0.1687 - accuracy: 0.9510\n",
      "Epoch 156/200\n",
      "70/70 [==============================] - 0s 1ms/step - loss: 0.1396 - accuracy: 0.9568\n",
      "Epoch 157/200\n",
      "70/70 [==============================] - 0s 1ms/step - loss: 0.1056 - accuracy: 0.9625\n",
      "Epoch 158/200\n",
      "70/70 [==============================] - 0s 1ms/step - loss: 0.1122 - accuracy: 0.9683\n",
      "Epoch 159/200\n",
      "70/70 [==============================] - 0s 1ms/step - loss: 0.1096 - accuracy: 0.9654\n",
      "Epoch 160/200\n",
      "70/70 [==============================] - 0s 1ms/step - loss: 0.0822 - accuracy: 0.9741\n",
      "Epoch 161/200\n",
      "70/70 [==============================] - 0s 1ms/step - loss: 0.0982 - accuracy: 0.9597\n",
      "Epoch 162/200\n",
      "70/70 [==============================] - 0s 1ms/step - loss: 0.1309 - accuracy: 0.9539\n",
      "Epoch 163/200\n",
      "70/70 [==============================] - 0s 1ms/step - loss: 0.1128 - accuracy: 0.9625\n",
      "Epoch 164/200\n",
      "70/70 [==============================] - 0s 1ms/step - loss: 0.1173 - accuracy: 0.9568\n",
      "Epoch 165/200\n",
      "70/70 [==============================] - 0s 1ms/step - loss: 0.1453 - accuracy: 0.9481\n",
      "Epoch 166/200\n",
      "70/70 [==============================] - 0s 1ms/step - loss: 0.1650 - accuracy: 0.9625\n",
      "Epoch 167/200\n",
      "70/70 [==============================] - 0s 1ms/step - loss: 0.1637 - accuracy: 0.9481\n",
      "Epoch 168/200\n",
      "70/70 [==============================] - 0s 1ms/step - loss: 0.1177 - accuracy: 0.9625\n",
      "Epoch 169/200\n",
      "70/70 [==============================] - 0s 1ms/step - loss: 0.1027 - accuracy: 0.9683\n",
      "Epoch 170/200\n",
      "70/70 [==============================] - 0s 1ms/step - loss: 0.0741 - accuracy: 0.9798\n",
      "Epoch 171/200\n",
      "70/70 [==============================] - 0s 1ms/step - loss: 0.1280 - accuracy: 0.9481\n",
      "Epoch 172/200\n",
      "70/70 [==============================] - 0s 1ms/step - loss: 0.0923 - accuracy: 0.9654\n",
      "Epoch 173/200\n",
      "70/70 [==============================] - 0s 1ms/step - loss: 0.1237 - accuracy: 0.9597\n",
      "Epoch 174/200\n",
      "70/70 [==============================] - 0s 1ms/step - loss: 0.1257 - accuracy: 0.9597\n",
      "Epoch 175/200\n",
      "70/70 [==============================] - 0s 1ms/step - loss: 0.1176 - accuracy: 0.9654\n",
      "Epoch 176/200\n",
      "70/70 [==============================] - 0s 1ms/step - loss: 0.1280 - accuracy: 0.9481\n",
      "Epoch 177/200\n",
      "70/70 [==============================] - 0s 1ms/step - loss: 0.1011 - accuracy: 0.9597\n",
      "Epoch 178/200\n",
      "70/70 [==============================] - 0s 1ms/step - loss: 0.1365 - accuracy: 0.9539\n",
      "Epoch 179/200\n",
      "70/70 [==============================] - 0s 1ms/step - loss: 0.1328 - accuracy: 0.9539\n",
      "Epoch 180/200\n",
      "70/70 [==============================] - 0s 1ms/step - loss: 0.1163 - accuracy: 0.9597\n",
      "Epoch 181/200\n",
      "70/70 [==============================] - 0s 1ms/step - loss: 0.1099 - accuracy: 0.9597\n",
      "Epoch 182/200\n",
      "70/70 [==============================] - 0s 1ms/step - loss: 0.0747 - accuracy: 0.9741\n",
      "Epoch 183/200\n",
      "70/70 [==============================] - 0s 1ms/step - loss: 0.1225 - accuracy: 0.9741\n",
      "Epoch 184/200\n",
      "70/70 [==============================] - 0s 1ms/step - loss: 0.0911 - accuracy: 0.9683\n",
      "Epoch 185/200\n",
      "70/70 [==============================] - 0s 1ms/step - loss: 0.1173 - accuracy: 0.9654\n",
      "Epoch 186/200\n",
      "70/70 [==============================] - 0s 1ms/step - loss: 0.0551 - accuracy: 0.9798\n",
      "Epoch 187/200\n",
      "70/70 [==============================] - 0s 1ms/step - loss: 0.1062 - accuracy: 0.9741\n",
      "Epoch 188/200\n",
      "70/70 [==============================] - 0s 1ms/step - loss: 0.0900 - accuracy: 0.9712\n",
      "Epoch 189/200\n",
      "70/70 [==============================] - 0s 1ms/step - loss: 0.1194 - accuracy: 0.9597\n",
      "Epoch 190/200\n",
      "70/70 [==============================] - 0s 1ms/step - loss: 0.1086 - accuracy: 0.9654\n",
      "Epoch 191/200\n",
      "70/70 [==============================] - 0s 1ms/step - loss: 0.1211 - accuracy: 0.9481\n",
      "Epoch 192/200\n",
      "70/70 [==============================] - 0s 1ms/step - loss: 0.1116 - accuracy: 0.9625\n",
      "Epoch 193/200\n",
      "70/70 [==============================] - 0s 1ms/step - loss: 0.1237 - accuracy: 0.9683\n",
      "Epoch 194/200\n",
      "70/70 [==============================] - 0s 1ms/step - loss: 0.1273 - accuracy: 0.9597\n",
      "Epoch 195/200\n",
      "70/70 [==============================] - 0s 1ms/step - loss: 0.1330 - accuracy: 0.9539\n",
      "Epoch 196/200\n",
      "70/70 [==============================] - 0s 1ms/step - loss: 0.1422 - accuracy: 0.9395\n",
      "Epoch 197/200\n",
      "70/70 [==============================] - 0s 1ms/step - loss: 0.1555 - accuracy: 0.9568\n",
      "Epoch 198/200\n",
      "70/70 [==============================] - 0s 1ms/step - loss: 0.0965 - accuracy: 0.9683\n",
      "Epoch 199/200\n",
      "70/70 [==============================] - 0s 1ms/step - loss: 0.0851 - accuracy: 0.9712\n",
      "Epoch 200/200\n",
      "70/70 [==============================] - 0s 1ms/step - loss: 0.1738 - accuracy: 0.9481\n",
      "model created\n"
     ]
    }
   ],
   "source": [
    "hist = model.fit(np.array(train_x), np.array(train_y), epochs=200, batch_size=5, verbose=1)\n",
    "model.save('chatbot_model.h5', hist)\n",
    "\n",
    "print(\"model created\")\n"
   ]
  },
  {
   "cell_type": "code",
   "execution_count": 13,
   "metadata": {
    "id": "qIvY-WE0j9bH"
   },
   "outputs": [],
   "source": [
    "from keras.models import load_model\n",
    "model = load_model('chatbot_model_v2.h5')"
   ]
  },
  {
   "cell_type": "code",
   "execution_count": 14,
   "metadata": {
    "id": "wrDr8xuZEZsm"
   },
   "outputs": [],
   "source": [
    "intents = json.loads(open('intents.json').read())\n",
    "words = pickle.load(open('words_v2.pkl','rb'))\n",
    "classes = pickle.load(open('classes_v2.pkl','rb'))"
   ]
  },
  {
   "cell_type": "code",
   "execution_count": 15,
   "metadata": {
    "id": "Gke07zbwEmmD"
   },
   "outputs": [],
   "source": [
    "def clean_up_sentence(sentence):\n",
    "    sentence_words = nltk.word_tokenize(sentence)\n",
    "    sentence_words = [lemmatizer.lemmatize(word.lower()) for word in sentence_words]\n",
    "    return sentence_words\n",
    "\n",
    "def bow(sentence, words, show_details=True):\n",
    "    sentence_words = clean_up_sentence(sentence)\n",
    "    bag = [0]*len(words) \n",
    "    for s in sentence_words:\n",
    "        for i,w in enumerate(words):\n",
    "            if w == s: \n",
    "                bag[i] = 1\n",
    "                if show_details:\n",
    "                    print (\"found in bag: %s\" % w)\n",
    "    return(np.array(bag))\n",
    "\n",
    "def predict_class(sentence, model):    \n",
    "    p = bow(sentence, words,show_details=False)\n",
    "    res = model.predict(np.array([p]))[0]\n",
    "    ERROR_THRESHOLD = 0.25\n",
    "    results = [[i,r] for i,r in enumerate(res) if r>ERROR_THRESHOLD]\n",
    "    results.sort(key=lambda x: x[1], reverse=True)\n",
    "    return_list = []\n",
    "    for r in results:\n",
    "        return_list.append({\"intent\": classes[r[0]], \"probability\": str(r[1])})\n",
    "    return return_list"
   ]
  },
  {
   "cell_type": "code",
   "execution_count": 16,
   "metadata": {
    "id": "zhfy3-mdFDTy"
   },
   "outputs": [],
   "source": [
    "def getResponse(ints, intents_json):\n",
    "    tag = ints[0]['intent']\n",
    "    list_of_intents = intents_json['intents']\n",
    "    for i in list_of_intents:\n",
    "        if(i['tag']== tag):\n",
    "            result = random.choice(i['responses'])\n",
    "            break\n",
    "    return result\n",
    "\n",
    "def chatbot_response(text):\n",
    "    ints = predict_class(text, model)\n",
    "    res = getResponse(ints, intents)\n",
    "    return res"
   ]
  },
  {
   "cell_type": "code",
   "execution_count": 17,
   "metadata": {
    "colab": {
     "base_uri": "https://localhost:8080/",
     "height": 34
    },
    "id": "6sOmCuajFEer",
    "outputId": "b13bb8da-c621-428e-a98c-ec203fe48ff7"
   },
   "outputs": [
    {
     "name": "stdout",
     "output_type": "stream",
     "text": [
      "Dr. Ganesan R is computer Dean\n"
     ]
    }
   ],
   "source": [
    "res = chatbot_response('who is computer dept hod')\n",
    "print(res)"
   ]
  },
  {
   "cell_type": "code",
   "execution_count": 18,
   "metadata": {
    "id": "6YChuu21mDO-"
   },
   "outputs": [
    {
     "name": "stdout",
     "output_type": "stream",
     "text": [
      "You can call me VITBOT.\n"
     ]
    }
   ],
   "source": [
    "res=chatbot_response('what is your name')\n",
    "print(res)"
   ]
  },
  {
   "cell_type": "code",
   "execution_count": 19,
   "metadata": {
    "id": "0XW_TuBZmGE7"
   },
   "outputs": [
    {
     "name": "stdout",
     "output_type": "stream",
     "text": [
      "I was developed by Aayush, Monark and raghav\n"
     ]
    }
   ],
   "source": [
    "res=chatbot_response('who made you')\n",
    "print(res)"
   ]
  },
  {
   "cell_type": "code",
   "execution_count": 20,
   "metadata": {},
   "outputs": [
    {
     "name": "stdout",
     "output_type": "stream",
     "text": [
      "Here is the Academic Calendar  <a target=\"_blank\" href=\"https://vit.ac.in/sites/default/files/Fall_Semester_2021-22_Academic_Calendar.pdf\">website</a>\n"
     ]
    }
   ],
   "source": [
    "res=chatbot_response('what is FAT exam schedule?')\n",
    "print(res)"
   ]
  },
  {
   "cell_type": "code",
   "execution_count": 21,
   "metadata": {},
   "outputs": [
    {
     "name": "stdout",
     "output_type": "stream",
     "text": [
      "There are a lot of events of which VIBRANCE is the biggest and well celebrated one!!\n"
     ]
    }
   ],
   "source": [
    "res=chatbot_response('what are the events in VIT?')\n",
    "print(res)"
   ]
  },
  {
   "cell_type": "code",
   "execution_count": 22,
   "metadata": {},
   "outputs": [
    {
     "name": "stdout",
     "output_type": "stream",
     "text": [
      "VIT Chennai offers CSE, ECE, ECM, MECH, CIVIL, EEE and many more Branches\n"
     ]
    }
   ],
   "source": [
    "res=chatbot_response('what courses does VIT offer?')\n",
    "print(res)"
   ]
  },
  {
   "cell_type": "code",
   "execution_count": 23,
   "metadata": {},
   "outputs": [
    {
     "name": "stdout",
     "output_type": "stream",
     "text": [
      "To know about placement visit <a target=\"_blank\" href=\"https://collegedunia.com/university/56865-vellore-institute-of-technology-vit-chennai/placement\">here</a>\n"
     ]
    }
   ],
   "source": [
    "res=chatbot_response('How are placements in VIT?')\n",
    "print(res)"
   ]
  },
  {
   "cell_type": "code",
   "execution_count": 24,
   "metadata": {},
   "outputs": [
    {
     "name": "stdout",
     "output_type": "stream",
     "text": [
      "I am glad I helped you\n"
     ]
    }
   ],
   "source": [
    "res=chatbot_response('Thank you')\n",
    "print(res)"
   ]
  },
  {
   "cell_type": "code",
   "execution_count": null,
   "metadata": {},
   "outputs": [],
   "source": []
  }
 ],
 "metadata": {
  "colab": {
   "include_colab_link": true,
   "name": "MyChatBot.ipynb",
   "provenance": []
  },
  "kernelspec": {
   "display_name": "Python 3 (ipykernel)",
   "language": "python",
   "name": "python3"
  },
  "language_info": {
   "codemirror_mode": {
    "name": "ipython",
    "version": 3
   },
   "file_extension": ".py",
   "mimetype": "text/x-python",
   "name": "python",
   "nbconvert_exporter": "python",
   "pygments_lexer": "ipython3",
   "version": "3.9.7"
  }
 },
 "nbformat": 4,
 "nbformat_minor": 1
}
